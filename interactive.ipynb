{
 "cells": [
  {
   "cell_type": "code",
   "execution_count": 1,
   "metadata": {},
   "outputs": [],
   "source": [
    "%matplotlib inline"
   ]
  },
  {
   "cell_type": "code",
   "execution_count": 2,
   "metadata": {},
   "outputs": [
    {
     "name": "stderr",
     "output_type": "stream",
     "text": [
      "/usr/local/Cellar/python/3.6.5/Frameworks/Python.framework/Versions/3.6/lib/python3.6/importlib/_bootstrap.py:219: RuntimeWarning: compiletime version 3.5 of module 'tensorflow.python.framework.fast_tensor_util' does not match runtime version 3.6\n",
      "  return f(*args, **kwds)\n",
      "/usr/local/lib/python3.6/site-packages/h5py/__init__.py:36: FutureWarning: Conversion of the second argument of issubdtype from `float` to `np.floating` is deprecated. In future, it will be treated as `np.float64 == np.dtype(float).type`.\n",
      "  from ._conv import register_converters as _register_converters\n"
     ]
    },
    {
     "data": {
      "image/png": "[encoded data removed]",
      "text/plain": [
       "<matplotlib.figure.Figure at 0x10bb01ef0>"
      ]
     },
     "metadata": {},
     "output_type": "display_data"
    },
    {
     "name": "stderr",
     "output_type": "stream",
     "text": [
      "                                                                      \r"
     ]
    },
    {
     "name": "stdout",
     "output_type": "stream",
     "text": [
      "saving model epoch 1\n",
      "saved model epoch 1\n"
     ]
    },
    {
     "data": {
      "image/png": "[encoded data removed]",
      "text/plain": [
       "<matplotlib.figure.Figure at 0x1199ae9b0>"
      ]
     },
     "metadata": {},
     "output_type": "display_data"
    },
    {
     "name": "stderr",
     "output_type": "stream",
     "text": [
      "                                                                      "
     ]
    },
    {
     "name": "stdout",
     "output_type": "stream",
     "text": [
      "saving model epoch 2\n"
     ]
    },
    {
     "name": "stderr",
     "output_type": "stream",
     "text": [
      "\r"
     ]
    },
    {
     "name": "stdout",
     "output_type": "stream",
     "text": [
      "saved model epoch 2\n"
     ]
    },
    {
     "data": {
      "image/png": "[encoded data removed]",
      "text/plain": [
       "<matplotlib.figure.Figure at 0x119b709b0>"
      ]
     },
     "metadata": {},
     "output_type": "display_data"
    },
    {
     "name": "stderr",
     "output_type": "stream",
     "text": [
      "                                                                      "
     ]
    },
    {
     "name": "stdout",
     "output_type": "stream",
     "text": [
      "saving model epoch 3\n"
     ]
    },
    {
     "name": "stderr",
     "output_type": "stream",
     "text": [
      "\r"
     ]
    },
    {
     "name": "stdout",
     "output_type": "stream",
     "text": [
      "saved model epoch 3\n"
     ]
    },
    {
     "data": {
      "image/png": "[encoded data removed]",
      "text/plain": [
       "<matplotlib.figure.Figure at 0x1195d1d68>"
      ]
     },
     "metadata": {},
     "output_type": "display_data"
    },
    {
     "name": "stderr",
     "output_type": "stream",
     "text": [
      "                                                                      \r"
     ]
    },
    {
     "name": "stdout",
     "output_type": "stream",
     "text": [
      "saving model epoch 4\n",
      "saved model epoch 4\n"
     ]
    },
    {
     "data": {
      "image/png": "[encoded data removed]",
      "text/plain": [
       "<matplotlib.figure.Figure at 0x1195c6e10>"
      ]
     },
     "metadata": {},
     "output_type": "display_data"
    }
   ],
   "source": [
    "#!/usr/bin/env python3.6\n",
    "# http://scikit-learn.org/stable/auto_examples/plot_anomaly_comparison.html#sphx-glr-auto-examples-plot-anomaly-comparison-pyc\n",
    "import tensorflow as tf\n",
    "import numpy as np\n",
    "from tqdm import tqdm\n",
    "import os\n",
    "import random\n",
    "import matplotlib.pyplot as plt\n",
    "from sklearn.datasets import make_moons\n",
    "\n",
    "PLOT = True\n",
    "\n",
    "n_samples = 40\n",
    "train_samples = 30\n",
    "tets_samples = n_samples - train_samples\n",
    "\n",
    "coords, labels = make_moons(n_samples=n_samples, random_state=0, noise=0.1)\n",
    "train_in = coords[:train_samples]\n",
    "train_out = labels[:train_samples]\n",
    "test_in = coords[train_samples:]\n",
    "test_out = labels[train_samples:]\n",
    "\n",
    "x = train_in[:, 0]\n",
    "y = train_in[:, 1]\n",
    "\n",
    "x_t = test_in[:, 0]\n",
    "y_t = test_in[:, 1]\n",
    "\n",
    "if PLOT:\n",
    "    fig = plt.figure()\n",
    "    ax1 = fig.add_subplot(111)\n",
    "    ax1.scatter(x[train_out == 0], y[train_out == 0], s=10, c='b', marker=\"s\", label='first')\n",
    "    ax1.scatter(x[train_out == 1], y[train_out == 1], s=10, c='r', marker=\"o\", label='second')\n",
    "    # plt.legend(loc='upper left');\n",
    "    plt.show()\n",
    "\n",
    "train_out = np.expand_dims(train_out, axis=1)\n",
    "test_out = np.expand_dims(test_out, axis=1)\n",
    "\n",
    "learning_rate = 10\n",
    "training_epochs = 4\n",
    "batch_size = 1\n",
    "display_step = 1\n",
    "\n",
    "# Network Parameters\n",
    "n_hidden = 2\n",
    "n_input = 2\n",
    "n_classes = 1\n",
    "\n",
    "\n",
    "checkpoint_dir = \"checkpoints\"\n",
    "log_dir = \"logdir\"\n",
    "\n",
    "CPU = True\n",
    "if CPU:\n",
    "    config = tf.ConfigProto(device_count = {'GPU': 0})\n",
    "else:\n",
    "    config = None\n",
    "\n",
    "if not os.path.exists(checkpoint_dir):\n",
    "    os.makedirs(checkpoint_dir)\n",
    "\n",
    "\n",
    "class Graph():\n",
    "    def __init__(self, config=None, daily=False, batch_sz=32, train_epochs=training_epochs):\n",
    "        # calc total batch count\n",
    "        self.sess = tf.Session(config=config)\n",
    "\n",
    "        self.x = tf.placeholder(tf.float32, shape=(None, n_input))\n",
    "        self.y = tf.placeholder(tf.int32, shape=(None, n_classes))\n",
    "\n",
    "        layer_1 = tf.layers.dense(self.x, n_hidden) # TODO \n",
    "        self.out = tf.layers.dense(layer_1, n_classes)   # TODO  remove\n",
    "\n",
    "        self.classes = tf.cast(tf.floor(self.out + 0.5), tf.int32)\n",
    "        self.istarget = tf.to_float(tf.not_equal(self.y, 0))\n",
    "        self.acc = tf.reduce_sum(tf.to_float(tf.equal(self.classes, self.y))*self.istarget) / (tf.reduce_sum(self.istarget))\n",
    "        tf.summary.scalar('acc', self.acc)\n",
    "\n",
    "        self.global_step = tf.Variable(0, name='global_step', trainable=False)\n",
    "        # loss_op = tf.reduce_mean(tf.nn.softmax_cross_entropy_with_logits(logits=self.out, labels=self.y))\n",
    "        self.loss_op = tf.reduce_mean(tf.losses.mean_squared_error(self.y, self.out))\n",
    "        \n",
    "        tf.summary.scalar('mean_loss', self.loss_op)\n",
    "\n",
    "        if not daily:\n",
    "            optimizer = tf.train.AdamOptimizer(learning_rate=learning_rate)\n",
    "            self.train_op = optimizer.minimize(self.loss_op, global_step=self.global_step)\n",
    "        \n",
    "        self.merged = tf.summary.merge_all()\n",
    "        self.saver = tf.train.Saver(max_to_keep=10)\n",
    "\n",
    "        if not daily:\n",
    "            self.sess.run([tf.global_variables_initializer(), tf.local_variables_initializer()])\n",
    "            self.train_writer = tf.summary.FileWriter(os.path.join(log_dir, 'train'))\n",
    "            self.test_writer = tf.summary.FileWriter(os.path.join(log_dir, 'test'))\n",
    "\n",
    "    def train(self, epoch):\n",
    "        num_batch = len(train_in) // batch_size\n",
    "        # import ipdb; ipdb.set_trace() # train_in, train_out\n",
    "        # 9000x2, 9000\n",
    "        inp_len = len(train_in)\n",
    "        all_data = list(range(inp_len))\n",
    "        random.shuffle(all_data)\n",
    "        indicies = all_data[:num_batch*batch_size]\n",
    "\n",
    "        for i in tqdm(range(num_batch), total=num_batch, ncols=70, leave=False, unit='b'):\n",
    "            # get batch\n",
    "            x = np.take(train_in , indicies[i*batch_size:(i+1)*batch_size], axis=0)\n",
    "            y = np.take(train_out, indicies[i*batch_size:(i+1)*batch_size], axis=0)\n",
    "            # run batch\n",
    "            summary, _, self.gs = self.sess.run([self.merged, self.train_op, self.global_step], feed_dict={self.x: x, self.y: y})\n",
    "            self.train_writer.add_summary(summary, self.gs)\n",
    "           \n",
    "        print(\"saving model epoch {}\".format(epoch))\n",
    "        self.saver.save(self.sess, os.path.join(checkpoint_dir, 'model_epoch_{}'.format(epoch)))\n",
    "        print(\"saved model epoch {}\".format(epoch))\n",
    "\n",
    "    def test(self):\n",
    "        summary, output = self.sess.run([self.merged, self.classes], feed_dict={self.x: test_in, self.y: test_out})\n",
    "        self.test_writer.add_summary(summary, self.gs)\n",
    "        output = np.squeeze(output)\n",
    "        # import ipdb; ipdb.set_trace()\n",
    "        if PLOT:\n",
    "            fig = plt.figure()\n",
    "            ax1 = fig.add_subplot(111)\n",
    "            ax1.scatter(x_t[output == 0], y_t[output == 0], s=10, c='b', marker=\"s\", label='first')\n",
    "            ax1.scatter(x_t[output == 1], y_t[output == 1], s=10, c='r', marker=\"o\", label='second')\n",
    "            # plt.legend(loc='upper left');\n",
    "            plt.show()\n",
    "\n",
    "\n",
    "g = Graph(config=config)\n",
    "for epoch in range(1, training_epochs+1):\n",
    "    g.train(epoch)\n",
    "    g.test()           "
   ]
  },
  {
   "cell_type": "code",
   "execution_count": null,
   "metadata": {},
   "outputs": [],
   "source": []
  }
 ],
 "metadata": {
  "kernelspec": {
   "display_name": "Python 3",
   "language": "python",
   "name": "python3"
  },
  "language_info": {
   "codemirror_mode": {
    "name": "ipython",
    "version": 3
   },
   "file_extension": ".py",
   "mimetype": "text/x-python",
   "name": "python",
   "nbconvert_exporter": "python",
   "pygments_lexer": "ipython3",
   "version": "3.6.5"
  }
 },
 "nbformat": 4,
 "nbformat_minor": 1
}
